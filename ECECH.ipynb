{
 "cells": [
  {
   "cell_type": "markdown",
   "id": "f1b2cdc6",
   "metadata": {},
   "source": [
    "# Team name: ECECH\n",
    "### Team Leader: Ritik Raj | Email: ritikraj210@gmail.com\n",
    "### Name: Ansh Trivedi | Email: anshtridev@gmail.com\n",
    "### Name: Milind Anand | Email: milindanand786@gmail.com\n"
   ]
  },
  {
   "cell_type": "markdown",
   "id": "db6e331e",
   "metadata": {},
   "source": [
    "# Spotify Recommendation System\n"
   ]
  },
  {
   "cell_type": "code",
   "execution_count": null,
   "id": "c13d60cf",
   "metadata": {},
   "outputs": [],
   "source": [
    "\n",
    "#importing libraries\n",
    "\n",
    "import spotipy\n",
    "import spotipy.util as util\n",
    "from spotipy.oauth2 import SpotifyClientCredentials\n",
    "import sys\n",
    "import pandas as pd\n",
    "import sklearn\n",
    "from sklearn.feature_extraction.text import CountVectorizer\n",
    "from sklearn.metrics import mean_squared_error\n",
    "from sklearn.model_selection import train_test_split\n",
    "from sklearn.metrics.pairwise import cosine_similarity\n",
    "from sklearn.metrics.pairwise import cosine_distances\n",
    "from sklearn.metrics import pairwise_distances\n",
    "\n",
    "\n",
    "\n"
   ]
  },
  {
   "cell_type": "markdown",
   "id": "1867fd95",
   "metadata": {},
   "source": [
    "## Extracting data from Spotify web api"
   ]
  },
  {
   "cell_type": "code",
   "execution_count": null,
   "id": "14155752",
   "metadata": {},
   "outputs": [],
   "source": [
    "\n",
    "client_id = 'ba80e357e085467f93544999e41c42ff'\n",
    "client_secret= '2ed50d3ca410418aad8492ad7a82b493'"
   ]
  },
  {
   "cell_type": "code",
   "execution_count": null,
   "id": "5732542f",
   "metadata": {},
   "outputs": [],
   "source": [
    "auth_manager = SpotifyClientCredentials(client_id=client_id, client_secret=client_secret)\n",
    "sp = spotipy.Spotify(auth_manager=auth_manager)\n",
    "scope = 'playlist-read-private'"
   ]
  },
  {
   "cell_type": "code",
   "execution_count": null,
   "id": "2ae63c69",
   "metadata": {},
   "outputs": [],
   "source": [
    "token = util.prompt_for_user_token(scope, client_id= client_id, client_secret=client_secret, redirect_uri='http://localhost:8800/callback/')"
   ]
  },
  {
   "cell_type": "code",
   "execution_count": null,
   "id": "575297bf",
   "metadata": {},
   "outputs": [],
   "source": [
    "sp = spotipy.Spotify(auth=token)"
   ]
  },
  {
   "cell_type": "code",
   "execution_count": null,
   "id": "64e2e897",
   "metadata": {
    "scrolled": true
   },
   "outputs": [],
   "source": [
    "#Spotify playlist data used\n",
    "sp.user_playlist_tracks(\"Milend\", \"6sbDkMWxoxObSEsOfOhEiw\")"
   ]
  },
  {
   "cell_type": "code",
   "execution_count": null,
   "id": "ab7834c2",
   "metadata": {},
   "outputs": [],
   "source": [
    "playlist_creator = \"Milend\"\n",
    "playlist_id = \"6sbDkMWxoxObSEsOfOhEiw\""
   ]
  },
  {
   "cell_type": "code",
   "execution_count": null,
   "id": "821c73f6",
   "metadata": {},
   "outputs": [],
   "source": [
    "def analyze_playlist(creator, playlist_id):\n",
    "    \n",
    "    # Create empty dataframe\n",
    "    playlist_features_list = [\"artist\", \"album\", \"track_name\", \"track_id\",\n",
    "                             \"danceability\", \"energy\", \"key\", \"loudness\", \"mode\", \"speechiness\",\n",
    "                             \"instrumentalness\", \"liveness\", \"valence\", \"tempo\", \"duration_ms\", \"time_signature\"]\n",
    "    playlist_df = pd.DataFrame(columns = playlist_features_list)\n",
    "   \n",
    "    # Create empty dict\n",
    "    playlist_features = {}\n",
    "    \n",
    "    # Loop through every track in the playlist, extract features and append the features to the playlist df\n",
    "    playlist = sp.user_playlist_tracks(creator, playlist_id)[\"items\"]\n",
    "    for track in playlist:\n",
    "        # Get metadata\n",
    "        playlist_features[\"artist_id\"] = track[\"track\"][\"album\"][\"artists\"][0][\"id\"]\n",
    "        playlist_features[\"artist\"] = track[\"track\"][\"album\"][\"artists\"][0][\"name\"]\n",
    "        playlist_features[\"album\"] = track[\"track\"][\"album\"][\"name\"]\n",
    "        playlist_features[\"track_name\"] = track[\"track\"][\"name\"]\n",
    "        playlist_features[\"track_id\"] = track[\"track\"][\"id\"]\n",
    "        playlist_features[\"image\"] = track[\"track\"][\"album\"][\"images\"][0][\"url\"]\n",
    "        playlist_features[\"popularity\"] = track[\"track\"][\"popularity\"]\n",
    "       \n",
    "        # Get audio features\n",
    "        audio_features = sp.audio_features(playlist_features[\"track_id\"])[0]\n",
    "        for feature in playlist_features_list[4:]:\n",
    "            playlist_features[feature] = audio_features[feature]\n",
    "        \n",
    "        # Concat the dfs\n",
    "        track_df = pd.DataFrame(playlist_features, index = [0])\n",
    "        playlist_df = pd.concat([playlist_df, track_df], ignore_index = True)\n",
    "        \n",
    "    return playlist_df"
   ]
  },
  {
   "cell_type": "code",
   "execution_count": null,
   "id": "c11e7951",
   "metadata": {},
   "outputs": [],
   "source": [
    "playlist_df = analyze_playlist(playlist_creator, playlist_id)"
   ]
  },
  {
   "cell_type": "code",
   "execution_count": null,
   "id": "7fd1f605",
   "metadata": {
    "scrolled": false
   },
   "outputs": [],
   "source": [
    "\n",
    "playlist_df.head(17)"
   ]
  },
  {
   "cell_type": "code",
   "execution_count": null,
   "id": "45ad9728",
   "metadata": {},
   "outputs": [],
   "source": [
    "playlist_df.loc[playlist_df['track_name']=='comethru']"
   ]
  },
  {
   "cell_type": "code",
   "execution_count": null,
   "id": "a829c022",
   "metadata": {
    "scrolled": false
   },
   "outputs": [],
   "source": [
    "playlist_df.describe()"
   ]
  },
  {
   "cell_type": "code",
   "execution_count": null,
   "id": "09f92f59",
   "metadata": {},
   "outputs": [],
   "source": [
    "from skimage import io\n",
    "import matplotlib.pyplot as plt\n",
    "\n",
    "def visualize_songs(df):\n",
    "    \n",
    "    \n",
    "    temp = df['image'].values\n",
    "    plt.figure(figsize=(15,int(0.625 * len(temp))))\n",
    "    columns = 5\n",
    "    \n",
    "    for i, url in enumerate(temp):\n",
    "        plt.subplot(len(temp) / columns + 1, columns, i + 1)\n",
    "\n",
    "        image = io.imread(url)\n",
    "        plt.imshow(image)\n",
    "        plt.xticks(color = 'w', fontsize = 0.1)\n",
    "        plt.yticks(color = 'w', fontsize = 0.1)\n",
    "        plt.xlabel(df['track_name'].values[i], fontsize = 12)\n",
    "        plt.ylabel(df['artist'].values[i], fontsize = 12)\n",
    "        plt.tight_layout(h_pad=0.4, w_pad=0)\n",
    "        plt.subplots_adjust(wspace=None, hspace=None)\n",
    "\n",
    "    plt.show()"
   ]
  },
  {
   "cell_type": "code",
   "execution_count": null,
   "id": "1b8b20ae",
   "metadata": {
    "scrolled": true
   },
   "outputs": [],
   "source": [
    "visualize_songs(playlist_df)"
   ]
  },
  {
   "cell_type": "markdown",
   "id": "b36e3ad1",
   "metadata": {},
   "source": [
    "## Recommendation based on popularity"
   ]
  },
  {
   "cell_type": "code",
   "execution_count": null,
   "id": "85bb6c03",
   "metadata": {},
   "outputs": [],
   "source": [
    "\n",
    "song_df = playlist_df.sort_values(by=['popularity'], ascending=False)\n",
    "\n",
    "song_df.head(17)"
   ]
  },
  {
   "cell_type": "code",
   "execution_count": null,
   "id": "2afde632",
   "metadata": {},
   "outputs": [],
   "source": [
    "#top 10 popular tracks of user's playlist\n",
    "artist_df = song_df['artist_id'].tolist()[0:10]"
   ]
  },
  {
   "cell_type": "code",
   "execution_count": null,
   "id": "c06c640d",
   "metadata": {},
   "outputs": [],
   "source": [
    "def artist_name(artist_id): \n",
    "    artist_features_list = [\"artist\",  \"track_name\", \"track_id\",]\n",
    "    artist_df = pd.DataFrame(columns = artist_features_list)\n",
    "\n",
    "\n",
    "    artist_features = {}\n",
    "    result = sp.artist_top_tracks(artist_id, country='US')['tracks']\n",
    "    for track in result:\n",
    "\n",
    "        artist_features[\"track\"] = track[\"album\"][\"artists\"][0][\"name\"]\n",
    "        artist_features[\"track_id\"] = track[\"id\"]\n",
    "        artist_features[\"image\"] = track[\"album\"][\"images\"][0][\"url\"]\n",
    "        artist_features[\"popularity\"] = track[\"popularity\"]\n",
    "\n",
    "\n",
    "        track_df = pd.DataFrame(artist_features, index = [0])\n",
    "        artist_df = pd.concat([artist_df, track_df], ignore_index = True)\n",
    "\n",
    "    return artist_df['track_id'][0:3]"
   ]
  },
  {
   "cell_type": "code",
   "execution_count": null,
   "id": "76de94ac",
   "metadata": {},
   "outputs": [],
   "source": [
    "\n",
    "print(\"\\n\\nTrack ids of the recommended songs\")\n",
    "i=0\n",
    "for song in artist_df:\n",
    "    artist_name(song)\n",
    "    print(artist_name(song))\n",
    "    i=i+1"
   ]
  }
 ],
 "metadata": {
  "celltoolbar": "Edit Metadata",
  "kernelspec": {
   "display_name": "Python 3 (ipykernel)",
   "language": "python",
   "name": "python3"
  },
  "language_info": {
   "codemirror_mode": {
    "name": "ipython",
    "version": 3
   },
   "file_extension": ".py",
   "mimetype": "text/x-python",
   "name": "python",
   "nbconvert_exporter": "python",
   "pygments_lexer": "ipython3",
   "version": "3.9.7"
  }
 },
 "nbformat": 4,
 "nbformat_minor": 5
}
